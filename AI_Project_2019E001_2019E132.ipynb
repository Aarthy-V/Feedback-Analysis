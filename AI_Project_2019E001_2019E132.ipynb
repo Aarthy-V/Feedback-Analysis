{
 "cells": [
  {
   "cell_type": "code",
   "execution_count": 1,
   "id": "a72b717b",
   "metadata": {},
   "outputs": [],
   "source": [
    "import pandas as pd\n",
    "from sklearn.feature_extraction.text import CountVectorizer, TfidfTransformer\n",
    "from sklearn.pipeline import Pipeline\n",
    "from sklearn.linear_model import SGDClassifier\n",
    "from sklearn.ensemble import RandomForestClassifier\n",
    "from sklearn.naive_bayes import MultinomialNB\n",
    "from sklearn.svm import SVC\n",
    "from sklearn.model_selection import train_test_split\n",
    "from sklearn.metrics import accuracy_score, classification_report\n",
    "from nltk.stem.snowball import SnowballStemmer\n",
    "from spellchecker import SpellChecker  # Added spellchecker library"
   ]
  },
  {
   "cell_type": "code",
   "execution_count": 2,
   "id": "2dff11aa",
   "metadata": {},
   "outputs": [],
   "source": [
    "# Load the training data\n",
    "path = 'trainingdata.csv'\n",
    "df = pd.read_csv(path)\n",
    "df = df.dropna()"
   ]
  },
  {
   "cell_type": "code",
   "execution_count": 3,
   "id": "5c046f28",
   "metadata": {},
   "outputs": [],
   "source": [
    "# Split the dataset into training and testing sets\n",
    "train_data, test_data = train_test_split(df, test_size=0.2, random_state=42)"
   ]
  },
  {
   "cell_type": "code",
   "execution_count": 4,
   "id": "d3b31d28",
   "metadata": {},
   "outputs": [],
   "source": [
    "# Spell Checker initialization\n",
    "spell_checker = SpellChecker()\n",
    "\n",
    "# Function for text preprocessing (including spell correction)\n",
    "def preprocess_text(text):\n",
    "    if text is None:\n",
    "        return ''  # Return an empty string if input is None\n",
    "    \n",
    "    if not isinstance(text, str):\n",
    "        return str(text)  # Convert non-string types to string\n",
    "    \n",
    "    # Tokenize the text into words\n",
    "    words = text.split()\n",
    "    \n",
    "    # Spell correction for each word\n",
    "    corrected_words = [spell_checker.correction(word) for word in words]\n",
    "    \n",
    "    # Join the corrected words back into a sentence\n",
    "    corrected_text = ' '.join(corrected_words)\n",
    "    \n",
    "    return corrected_text"
   ]
  },
  {
   "cell_type": "code",
   "execution_count": 5,
   "id": "b2da01e3",
   "metadata": {},
   "outputs": [],
   "source": [
    "# Define multiple pipelines with different classifiers\n",
    "classifiers = {\n",
    "    'SVM': Pipeline([\n",
    "        ('vect', CountVectorizer()),\n",
    "        ('tfidf', TfidfTransformer()),\n",
    "        ('clf-svm', SGDClassifier(loss='hinge', penalty='l2', alpha=1e-3, random_state=42))\n",
    "    ]),\n",
    "    'RandomForest': Pipeline([\n",
    "        ('vect', CountVectorizer()),\n",
    "        ('tfidf', TfidfTransformer()),\n",
    "        ('clf-rf', RandomForestClassifier(n_estimators=100, random_state=42))\n",
    "    ]),\n",
    "    'NaiveBayes': Pipeline([\n",
    "        ('vect', CountVectorizer()),\n",
    "        ('tfidf', TfidfTransformer()),\n",
    "        ('clf-nb', MultinomialNB())\n",
    "    ]),\n",
    "    'SVM_RBF': Pipeline([\n",
    "        ('vect', CountVectorizer()),\n",
    "        ('tfidf', TfidfTransformer()),\n",
    "        ('clf-svm', SVC(kernel='rbf', gamma='auto', random_state=42))\n",
    "    ]),\n",
    "}\n"
   ]
  },
  {
   "cell_type": "code",
   "execution_count": 6,
   "id": "9488bfa0",
   "metadata": {},
   "outputs": [
    {
     "name": "stdout",
     "output_type": "stream",
     "text": [
      "Accuracy for SVM: 86.59%\n",
      "Classification Report for SVM:\n",
      "              precision    recall  f1-score   support\n",
      "\n",
      "        -1.0       0.89      0.91      0.90       111\n",
      "         0.0       0.88      0.54      0.67        41\n",
      "         1.0       0.84      0.94      0.89       109\n",
      "\n",
      "    accuracy                           0.87       261\n",
      "   macro avg       0.87      0.80      0.82       261\n",
      "weighted avg       0.87      0.87      0.86       261\n",
      "\n",
      "Accuracy for RandomForest: 78.93%\n",
      "Classification Report for RandomForest:\n",
      "              precision    recall  f1-score   support\n",
      "\n",
      "        -1.0       0.83      0.78      0.81       111\n",
      "         0.0       0.72      0.51      0.60        41\n",
      "         1.0       0.77      0.90      0.83       109\n",
      "\n",
      "    accuracy                           0.79       261\n",
      "   macro avg       0.77      0.73      0.75       261\n",
      "weighted avg       0.79      0.79      0.78       261\n",
      "\n",
      "Accuracy for NaiveBayes: 80.84%\n",
      "Classification Report for NaiveBayes:\n",
      "              precision    recall  f1-score   support\n",
      "\n",
      "        -1.0       0.75      0.93      0.83       111\n",
      "         0.0       1.00      0.27      0.42        41\n",
      "         1.0       0.86      0.89      0.87       109\n",
      "\n",
      "    accuracy                           0.81       261\n",
      "   macro avg       0.87      0.70      0.71       261\n",
      "weighted avg       0.84      0.81      0.78       261\n",
      "\n",
      "Accuracy for SVM_RBF: 41.76%\n",
      "Classification Report for SVM_RBF:\n",
      "              precision    recall  f1-score   support\n",
      "\n",
      "        -1.0       0.00      0.00      0.00       111\n",
      "         0.0       0.00      0.00      0.00        41\n",
      "         1.0       0.42      1.00      0.59       109\n",
      "\n",
      "    accuracy                           0.42       261\n",
      "   macro avg       0.14      0.33      0.20       261\n",
      "weighted avg       0.17      0.42      0.25       261\n",
      "\n"
     ]
    },
    {
     "name": "stderr",
     "output_type": "stream",
     "text": [
      "C:\\Users\\DELL\\anaconda3\\lib\\site-packages\\sklearn\\metrics\\_classification.py:1344: UndefinedMetricWarning: Precision and F-score are ill-defined and being set to 0.0 in labels with no predicted samples. Use `zero_division` parameter to control this behavior.\n",
      "  _warn_prf(average, modifier, msg_start, len(result))\n",
      "C:\\Users\\DELL\\anaconda3\\lib\\site-packages\\sklearn\\metrics\\_classification.py:1344: UndefinedMetricWarning: Precision and F-score are ill-defined and being set to 0.0 in labels with no predicted samples. Use `zero_division` parameter to control this behavior.\n",
      "  _warn_prf(average, modifier, msg_start, len(result))\n",
      "C:\\Users\\DELL\\anaconda3\\lib\\site-packages\\sklearn\\metrics\\_classification.py:1344: UndefinedMetricWarning: Precision and F-score are ill-defined and being set to 0.0 in labels with no predicted samples. Use `zero_division` parameter to control this behavior.\n",
      "  _warn_prf(average, modifier, msg_start, len(result))\n"
     ]
    }
   ],
   "source": [
    "# Train and evaluate each classifier\n",
    "best_model = None\n",
    "best_accuracy = 0.0\n",
    "\n",
    "for name, classifier in classifiers.items():\n",
    "    # Train the classifier\n",
    "    classifier.fit(train_data['sentences'], train_data['sentiments'])\n",
    "\n",
    "    # Evaluate accuracy on the test set\n",
    "    predicted = classifier.predict(test_data['sentences'])\n",
    "    accuracy = accuracy_score(test_data['sentiments'], predicted)\n",
    "    print(f\"Accuracy for {name}: {accuracy * 100:.2f}%\")\n",
    "\n",
    "    # Display classification report for more detailed evaluation\n",
    "    print(f\"Classification Report for {name}:\\n{classification_report(test_data['sentiments'], predicted)}\")\n",
    "\n",
    "    # Update best model if accuracy is higher\n",
    "    if accuracy > best_accuracy:\n",
    "        best_accuracy = accuracy\n",
    "        best_model = classifier\n"
   ]
  },
  {
   "cell_type": "code",
   "execution_count": 7,
   "id": "59c0ab17",
   "metadata": {},
   "outputs": [],
   "source": [
    "# Function to predict sentiment using the best model\n",
    "def predict_sentiment(sentence):\n",
    "    result = best_model.predict([sentence])[0]\n",
    "    return result"
   ]
  },
  {
   "cell_type": "code",
   "execution_count": 8,
   "id": "c784a059",
   "metadata": {},
   "outputs": [],
   "source": [
    "# Function to interactively enter sentences and check sentiment\n",
    "def enter_sentences():\n",
    "    while True:\n",
    "        user_input = input(\"Enter a sentence (or 'exit' to stop): \")\n",
    "        if user_input.lower() == 'exit':\n",
    "            break\n",
    "        predicted_sentiment = predict_sentiment(user_input)\n",
    "        predicted_sentiment_label = sentiment_labels[predicted_sentiment]\n",
    "        print(f\"Predicted Sentiment: {predicted_sentiment_label}\")\n",
    "\n",
    "# Map the numerical sentiment to labels\n",
    "sentiment_labels = {1: 'Positive', 0: 'Neutral', -1: 'Negative'}\n"
   ]
  },
  {
   "cell_type": "code",
   "execution_count": null,
   "id": "79993a88",
   "metadata": {},
   "outputs": [
    {
     "name": "stdout",
     "output_type": "stream",
     "text": [
      "Enter a sentence (or 'exit' to stop): She is good in teaching\n",
      "Predicted Sentiment: Positive\n",
      "Enter a sentence (or 'exit' to stop): She is average in teaching\n",
      "Predicted Sentiment: Neutral\n",
      "Enter a sentence (or 'exit' to stop): She is not good in teaching\n",
      "Predicted Sentiment: Negative\n"
     ]
    }
   ],
   "source": [
    "# Test the function with interactive sentence entry\n",
    "enter_sentences()\n",
    "\n",
    "# Print the best model's accuracy on the test set\n",
    "print(f\"Best Model Accuracy on the test set: {best_accuracy * 100:.2f}%\")"
   ]
  },
  {
   "cell_type": "code",
   "execution_count": null,
   "id": "72fb11d1",
   "metadata": {},
   "outputs": [],
   "source": []
  }
 ],
 "metadata": {
  "kernelspec": {
   "display_name": "Python 3 (ipykernel)",
   "language": "python",
   "name": "python3"
  },
  "language_info": {
   "codemirror_mode": {
    "name": "ipython",
    "version": 3
   },
   "file_extension": ".py",
   "mimetype": "text/x-python",
   "name": "python",
   "nbconvert_exporter": "python",
   "pygments_lexer": "ipython3",
   "version": "3.10.9"
  }
 },
 "nbformat": 4,
 "nbformat_minor": 5
}
